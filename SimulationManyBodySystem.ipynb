{
  "nbformat": 4,
  "nbformat_minor": 0,
  "metadata": {
    "colab": {
      "name": "QsimEjer2.ipynb",
      "provenance": [],
      "collapsed_sections": [
        "fHpDFA0dAgZE"
      ],
      "authorship_tag": "ABX9TyNYso8lr3ahGCpIVJUthEoi",
      "include_colab_link": true
    },
    "kernelspec": {
      "name": "python3",
      "display_name": "Python 3"
    },
    "language_info": {
      "name": "python"
    }
  },
  "cells": [
    {
      "cell_type": "markdown",
      "metadata": {
        "id": "view-in-github",
        "colab_type": "text"
      },
      "source": [
        "<a href=\"https://colab.research.google.com/github/geophase/Quantum_Simulators_MSc/blob/main/SimulationManyBodySystem.ipynb\" target=\"_parent\"><img src=\"https://colab.research.google.com/assets/colab-badge.svg\" alt=\"Open In Colab\"/></a>"
      ]
    },
    {
      "cell_type": "markdown",
      "metadata": {
        "id": "gMKhTpCBzyjC"
      },
      "source": [
        "# Fock Basis \n"
      ]
    },
    {
      "cell_type": "code",
      "metadata": {
        "id": "QyvPrNFOiuKM"
      },
      "source": [
        "import numpy as np\n",
        "from scipy.linalg import eigh\n",
        "import math as mt\n",
        "import matplotlib.pyplot as py"
      ],
      "execution_count": null,
      "outputs": []
    },
    {
      "cell_type": "code",
      "metadata": {
        "id": "hpraKyMlz4pY"
      },
      "source": [
        "Fock0=[np.array([3,0,0,0,0,0,0])];\n",
        "Fock1=[np.array([2,1,0,0,0,0,0])];\n",
        "Fock2=[np.array([2,0,1,0,0,0,0]),np.array([1,2,0,0,0,0,0])];\n",
        "Fock3=[np.array([2,0,0,1,0,0,0]),np.array([0,3,0,0,0,0,0]),np.array([1,1,1,0,0,0,0])];\n",
        "Fock4=[np.array([2,0,0,0,1,0,0]),np.array([1,0,2,0,0,0,0]),np.array([0,2,1,0,0,0,0]),np.array([1,1,0,1,0,0,0])];\n",
        "Fock5=[np.array([2,0,0,0,0,1,0]),np.array([1,0,1,1,0,0,0]),np.array([1,1,0,0,1,0,0]),np.array([0,1,2,0,0,0,0]),np.array([0,2,0,1,0,0,0])];\n",
        "Fock6=[np.array([2,0,0,0,0,0,1]),np.array([0,0,3,0,0,0,0]),np.array([1,1,0,0,0,1,0]),np.array([0,1,1,1,0,0,0]),np.array([1,0,1,0,1,0,0]),np.array([1,0,0,2,0,0,0]),np.array([0,2,0,0,1,0,0])];\n",
        "Base=[Fock2,Fock3,Fock4,Fock5,Fock6]"
      ],
      "execution_count": null,
      "outputs": []
    },
    {
      "cell_type": "code",
      "metadata": {
        "id": "UBgFBVZrJul8"
      },
      "source": [
        "def angmom(ket):\n",
        "  'Function to calculate L of a given Fock vector'\n",
        "  L=0;\n",
        "  for k in range(len(ket)): \n",
        "    L=L+k*ket[k]\n",
        "  return L"
      ],
      "execution_count": null,
      "outputs": []
    },
    {
      "cell_type": "markdown",
      "metadata": {
        "id": "fHpDFA0dAgZE"
      },
      "source": [
        "# Operators"
      ]
    },
    {
      "cell_type": "code",
      "metadata": {
        "id": "v--8hYUbAjSd"
      },
      "source": [
        "def creation(ket,k):\n",
        "   v=np.copy(ket);\n",
        "   rc= np.sqrt(v[k]+1);\n",
        "   v[k]=v[k]+1;\n",
        "   if sum(v)>3:\n",
        "     return [0.,ket]\n",
        "   else: \n",
        "    return [rc,v]\n",
        "\n",
        "def annihilation(ket,k):\n",
        "  v=np.copy(ket);\n",
        "  if v[k]==0:\n",
        "    return [0.,ket]\n",
        "  else:\n",
        "    ra= np.sqrt(v[k]);\n",
        "    v[k]=v[k]-1;\n",
        "    return [ra,v]\n",
        "\n",
        "def braket(bra,ket):\n",
        "  v1=bra;\n",
        "  v2=ket;\n",
        "  if np.array_equal(v1,v2):\n",
        "    return 1\n",
        "  else:\n",
        "    return 0\n"
      ],
      "execution_count": null,
      "outputs": []
    },
    {
      "cell_type": "markdown",
      "metadata": {
        "id": "Wbq6_48T_Rpb"
      },
      "source": [
        "# Hamiltonian\n",
        " "
      ]
    },
    {
      "cell_type": "code",
      "metadata": {
        "id": "UP6CXz-51Nyk"
      },
      "source": [
        "def HNI(bra,ket,L,w):\n",
        "  \"Function that compute the matrix element <bra|H|ket> where H is the non-interaction part\"\n",
        "\n",
        "  def Hsp(w,k):\n",
        "    return 1+k*(1-w)\n",
        "\n",
        "  w=w;\n",
        "  g2d=1;\n",
        "  bra0=bra;\n",
        "  ket0=ket;\n",
        "  H=0;\n",
        "  if np.array_equal(bra0,ket0):\n",
        "    for k in range(L+1):\n",
        "      f=Hsp(w,k);\n",
        "      H=H+f*ket[k];\n",
        "    return H\n",
        "  else: \n",
        "    return 0\n",
        "\n",
        "def VI(bra,ket,L,g2D):\n",
        "  \"Function that compute the matrix element <bra|V|ket> where V is the interaction part\"\n",
        "  g2D=g2D;\n",
        "  L=L;\n",
        "  ket0=ket;\n",
        "  #print(ket0)\n",
        "  bra0=bra;\n",
        "\n",
        "  def I(k,l,p,q):\n",
        "    div=2*np.pi*np.sqrt(mt.factorial(k)*mt.factorial(l)*mt.factorial(p)*mt.factorial(q))*2**(k+l);\n",
        "    return mt.factorial(k+l)/div*dkronocker(0,k+l-p-q)\n",
        "\n",
        "  Vint=0;\n",
        "  for k in range(L+1):\n",
        "    for l in range(L+1):\n",
        "      for p in range(L+1):\n",
        "        for q in range(L+1):\n",
        "          ket0=ket;\n",
        "          #print(k,l,p,q)\n",
        "          if k+l!=p+q:\n",
        "            Vint=Vint\n",
        "          else:\n",
        "            [r1,ket1]=annihilation(ket0,k);\n",
        "            [r2,ket2]=annihilation(ket1,l);      \n",
        "            [r3,ket3]=creation(ket2,p);   \n",
        "            [r4,ket4]=creation(ket3,q);\n",
        "            Vint=Vint+g2D*I(k,l,p,q)*r1*r2*r3*r4*braket(bra0,ket4)*0.5;\n",
        "  return Vint\n",
        "\n",
        "def He(FockL,g2d,w):\n",
        "  'Construction of the matrices for each element of the base'\n",
        "  d=len(FockL);\n",
        "  L=angmom(FockL[0]);\n",
        "  i=0;\n",
        "  j=0;\n",
        "  H=np.zeros([d,d]); \n",
        "  for bra in FockL:\n",
        "    j=0;\n",
        "    for ket in FockL:\n",
        "      H[i,j]=HNI(bra,ket,L,w)+VI(bra,ket,L,g2d);\n",
        "      j+=1\n",
        "    i+=1 \n",
        " \n",
        "  return H \n"
      ],
      "execution_count": null,
      "outputs": []
    },
    {
      "cell_type": "markdown",
      "metadata": {
        "id": "EUCVkqCweyT8"
      },
      "source": [
        "# Diagonalization"
      ]
    },
    {
      "cell_type": "code",
      "metadata": {
        "id": "e3S2GWm6WWH2"
      },
      "source": [
        "def groundstate(Base,g2D,w):\n",
        "  'Function that obtain the ground state and correspondant eigenvalue of the hamiltonian'\n",
        "  'for each element of the Base'\n",
        "  g2D=g2D;\n",
        "  w=w;\n",
        "  eL=np.zeros(len(Base));\n",
        "  gL=list();\n",
        "  for i in range(len(Base)):\n",
        "    FockL=Base[i];\n",
        "    #print(FockL,i)\n",
        "    H=He(FockL,g2D,w);\n",
        "    [e,g]=eigh(H);\n",
        "    eL[i]=e[0];\n",
        "    #print(e,e[0],eL[i])\n",
        "    gL.append(g[0]);\n",
        "  return eL,gL\n"
      ],
      "execution_count": null,
      "outputs": []
    },
    {
      "cell_type": "code",
      "metadata": {
        "colab": {
          "base_uri": "https://localhost:8080/",
          "height": 296
        },
        "id": "KfZOmJRCU49c",
        "outputId": "b72a3d6a-8224-4f60-b6f8-c628db362de4"
      },
      "source": [
        "w=np.linspace(0.75,1,6)\n",
        "g2D=1;\n",
        "L=[0,1,2,3,4,5,6]\n",
        "fig, ax = py.subplots()\n",
        "for w in w:\n",
        "  e0=He(Fock0,1,w)[0];\n",
        "  e1=He(Fock1,1,w)[0];\n",
        "  [e,g]=groundstate(Base,1,w)\n",
        "  E=np.concatenate([np.array([e0[0],e1[0]]),e]);\n",
        "  ws=str(w);\n",
        "  ax.plot(L,E/e0,'x--',label='Energy for $\\omega/\\Omega$ ='+ws)\n",
        "ax.legend()\n",
        "ax.set_title('')\n",
        "ax.set_xlabel('L')\n",
        "ax.set_ylabel('E')"
      ],
      "execution_count": null,
      "outputs": [
        {
          "output_type": "execute_result",
          "data": {
            "text/plain": [
              "Text(0, 0.5, 'E')"
            ]
          },
          "metadata": {
            "tags": []
          },
          "execution_count": 276
        },
        {
          "output_type": "display_data",
          "data": {
            "image/png": "[encoded data removed]",
            "text/plain": [
              "<Figure size 432x288 with 1 Axes>"
            ]
          },
          "metadata": {
            "tags": [],
            "needs_background": "light"
          }
        }
      ]
    }
  ]
}