{
 "cells": [
  {
   "cell_type": "code",
   "execution_count": 1,
   "metadata": {},
   "outputs": [],
   "source": [
    "import numpy as np\n",
    "from scipy import optimize as op\n",
    "from matplotlib import pyplot as py\n",
    "import matplotlib.pyplot as plt\n",
    "import math as math"
   ]
  },
  {
   "cell_type": "markdown",
   "metadata": {},
   "source": [
    "# Ex A1"
   ]
  },
  {
   "cell_type": "code",
   "execution_count": 70,
   "metadata": {},
   "outputs": [],
   "source": [
    "def exercise(U_f,t_f,nbar_f):\n",
    "    U = U_f\n",
    "    t = t_f\n",
    "    nbar = nbar_f\n",
    "    \n",
    "    def H(f):\n",
    "        \"Expected value of the hamiltonian\"\n",
    "        f=f\n",
    "        #navg=1\n",
    "        Hint = 0.\n",
    "        Hkin = 0.\n",
    "        for n in range(9):\n",
    "                Hint = Hint + U/2*abs(f[n])**2*n(n+1)**2 # Lattice hamiltonian expected value\n",
    "        for n in range(8):\n",
    "                Hkin = Hkin + np.conjugate(f[n])*f[n+1]*np.sqrt(n+1) # Kinetic hamiltonian expected value\n",
    "        return Hint-t*abs(Hkin)**2\n",
    "\n",
    "    def con_1(f): \n",
    "        c1 = 0.\n",
    "        for n in range(9):\n",
    "            c1 =  c1 + abs(f[n])**2\n",
    "        return np.array(c1 - 1.)\n",
    "\n",
    "    def con_2(f):\n",
    "        return np.array(f - 1.)\n",
    "\n",
    "    def con_3(f):\n",
    "        c3 = 0.\n",
    "        for n in range(9):\n",
    "            c3 = c3 + n*abs(f[n])**2\n",
    "        return np.array(c3 - nbar)\n",
    "    \n",
    "    c1 = op.NonlinearConstraint(con_1, 0., 0.)\n",
    "    c3 = op.NonlinearConstraint(con_3, 0., 0.)\n",
    "\n",
    "    b = [0., 1.]\n",
    "    bound=(b,b,b,b,b,b,b,b,b);\n",
    "\n",
    "    result = op.differential_evolution(H, bounds=bound, constraints = (c1,c3))\n",
    "    f = np.array(result.x)\n",
    "    \n",
    "    return f\n",
    "    \n",
    "    \n"
   ]
  },
  {
   "cell_type": "code",
   "execution_count": 72,
   "metadata": {},
   "outputs": [],
   "source": [
    "\n",
    "f1=exercise(U_f = 0.,t_f=1.,nbar_f=1.);\n",
    "f2=exercise(U_f = 0.,t_f=1.,nbar_f=2.);\n",
    "f3=exercise(U_f = 10.,t_f=1.,nbar_f=1.);\n",
    "f4=exercise(U_f = 100.,t_f=1.,nbar_f=1.1);\n",
    "         "
   ]
  },
  {
   "cell_type": "code",
   "execution_count": 103,
   "metadata": {
    "scrolled": true
   },
   "outputs": [
    {
     "data": {
      "image/png": "[encoded data removed]",
      "text/plain": [
       "<Figure size 324x288 with 4 Axes>"
      ]
     },
     "metadata": {
      "needs_background": "light"
     },
     "output_type": "display_data"
    },
    {
     "data": {
      "image/png": "[encoded data removed]",
      "text/plain": [
       "<Figure size 324x288 with 1 Axes>"
      ]
     },
     "metadata": {
      "needs_background": "light"
     },
     "output_type": "display_data"
    }
   ],
   "source": [
    "x = ['f0','f1','f2','f3','f4','f5','f6','f7','f8']\n",
    "\n",
    "fig, axs = plt.subplots(2, 2)\n",
    "plt.subplots_adjust(left=0.1, bottom=0.02, right=0.9, top=0.9, wspace=0.4, hspace=0.5)\n",
    "\n",
    "axs[0, 0].bar(x,f1)\n",
    "axs[0, 0].set_title('U=0,t=1,<n>=1')\n",
    "axs[1, 0].bar(x,f2)\n",
    "axs[1, 0].set_title('U=0,t=1,<n>=2')\n",
    "axs[0, 1].bar(x,f3)\n",
    "axs[0, 1].set_title('U=10,t=1,<n>=1')\n",
    "axs[1, 1].bar(x,f4)\n",
    "axs[1, 1].set_title('U=100,t=1,<n>=1.1')\n",
    "plt.savefig('exA1.pdf',dpi=200)\n",
    "\n",
    "\n",
    "b = ['n=0','n=1','n=2','n=3','n=4','n=5','n=6','n=7','n=8']\n",
    "fig = plt.figure()\n",
    "ax = fig.add_axes([0,0,1,1])\n",
    "ax.bar(b,abs(f1)**2)\n",
    "plt.savefig('exB.pdf',dpi=300)"
   ]
  },
  {
   "cell_type": "markdown",
   "metadata": {},
   "source": [
    "# Ex A2"
   ]
  },
  {
   "cell_type": "code",
   "execution_count": 53,
   "metadata": {},
   "outputs": [],
   "source": [
    "def coherence(f,nbar_f):\n",
    "    nbar = nbar_f\n",
    "    g = 0.\n",
    "    for n in range(7):\n",
    "        g = g + np.conjugate(f[n])*f[n+1]*np.sqrt(n+1) # Kinetic hamiltonian expected value\n",
    "    return (abs(g)**2)/float(nbar)\n",
    "    "
   ]
  },
  {
   "cell_type": "code",
   "execution_count": 57,
   "metadata": {},
   "outputs": [],
   "source": [
    "t_f=1;\n",
    "U = np.linspace(0,10,10); \n",
    "nbar_f=1;\n",
    "g1 = np.zeros(10);\n",
    "\n",
    "for n in range(10):\n",
    "    f = exercise(U[n],t_f,nbar_f);\n",
    "    g1[n] = coherence(f,nbar_f);"
   ]
  },
  {
   "cell_type": "code",
   "execution_count": 101,
   "metadata": {},
   "outputs": [
    {
     "data": {
      "image/png": "[encoded data removed]",
      "text/plain": [
       "<Figure size 324x288 with 1 Axes>"
      ]
     },
     "metadata": {
      "needs_background": "light"
     },
     "output_type": "display_data"
    }
   ],
   "source": [
    "plt.scatter(U,g1)\n",
    "plt.xlabel('U/t')\n",
    "plt.ylabel('g_1')\n",
    "plt.xlim([-0.1,10.])\n",
    "plt.ylim([-0.1,1.05])\n",
    "plt.savefig('exB2c.png',dpi=300)"
   ]
  },
  {
   "cell_type": "markdown",
   "metadata": {},
   "source": [
    "# Ex A3 2 c)"
   ]
  },
  {
   "cell_type": "code",
   "execution_count": 59,
   "metadata": {},
   "outputs": [],
   "source": [
    "def coherencet(t):\n",
    "    t=t;\n",
    "    U=10;\n",
    "    nm = 1;\n",
    "    g = 0.;\n",
    "    hbar=10**(-34);\n",
    "    for n in range(8):\n",
    "        g = g+nm**n*np.sqrt(n+1)*np.exp(-U*n*t*1j/hbar)/(np.sqrt(math.factorial(n)*math.factorial(n+1)))\n",
    "    return np.exp(-2*nm)*(abs(g)**2)"
   ]
  },
  {
   "cell_type": "code",
   "execution_count": 1,
   "metadata": {},
   "outputs": [
    {
     "ename": "NameError",
     "evalue": "name 'np' is not defined",
     "output_type": "error",
     "traceback": [
      "\u001b[0;31m---------------------------------------------------------------------------\u001b[0m",
      "\u001b[0;31mNameError\u001b[0m                                 Traceback (most recent call last)",
      "\u001b[0;32m<ipython-input-1-17444e33a374>\u001b[0m in \u001b[0;36m<module>\u001b[0;34m\u001b[0m\n\u001b[1;32m      1\u001b[0m \u001b[0mnt\u001b[0m\u001b[0;34m=\u001b[0m\u001b[0;36m300\u001b[0m\u001b[0;34m;\u001b[0m\u001b[0;34m\u001b[0m\u001b[0;34m\u001b[0m\u001b[0m\n\u001b[0;32m----> 2\u001b[0;31m \u001b[0mt\u001b[0m\u001b[0;34m=\u001b[0m\u001b[0mnp\u001b[0m\u001b[0;34m.\u001b[0m\u001b[0mlinspace\u001b[0m\u001b[0;34m(\u001b[0m\u001b[0;36m0\u001b[0m\u001b[0;34m,\u001b[0m\u001b[0;36m100\u001b[0m\u001b[0;34m,\u001b[0m\u001b[0mnt\u001b[0m\u001b[0;34m)\u001b[0m\u001b[0;34m;\u001b[0m\u001b[0;34m\u001b[0m\u001b[0;34m\u001b[0m\u001b[0m\n\u001b[0m\u001b[1;32m      3\u001b[0m \u001b[0mgt\u001b[0m\u001b[0;34m=\u001b[0m\u001b[0mnp\u001b[0m\u001b[0;34m.\u001b[0m\u001b[0mzeros\u001b[0m\u001b[0;34m(\u001b[0m\u001b[0mnt\u001b[0m\u001b[0;34m)\u001b[0m\u001b[0;34m;\u001b[0m\u001b[0;34m\u001b[0m\u001b[0;34m\u001b[0m\u001b[0m\n\u001b[1;32m      4\u001b[0m \u001b[0;32mfor\u001b[0m \u001b[0mi\u001b[0m \u001b[0;32min\u001b[0m \u001b[0mrange\u001b[0m\u001b[0;34m(\u001b[0m\u001b[0mnt\u001b[0m\u001b[0;34m)\u001b[0m\u001b[0;34m:\u001b[0m\u001b[0;34m\u001b[0m\u001b[0;34m\u001b[0m\u001b[0m\n\u001b[1;32m      5\u001b[0m     \u001b[0mtn\u001b[0m\u001b[0;34m=\u001b[0m\u001b[0mt\u001b[0m\u001b[0;34m[\u001b[0m\u001b[0mi\u001b[0m\u001b[0;34m]\u001b[0m\u001b[0;34m;\u001b[0m\u001b[0;34m\u001b[0m\u001b[0;34m\u001b[0m\u001b[0m\n",
      "\u001b[0;31mNameError\u001b[0m: name 'np' is not defined"
     ]
    }
   ],
   "source": [
    "nt=300;\n",
    "t=np.linspace(0,100,nt);\n",
    "gt=np.zeros(nt);\n",
    "for i in range(nt):\n",
    "    tn=t[i];\n",
    "    gt[i]=coherencet(tn);\n",
    "\n"
   ]
  },
  {
   "cell_type": "code",
   "execution_count": 61,
   "metadata": {},
   "outputs": [
    {
     "data": {
      "text/plain": [
       "Text(0, 0.5, 'g_1(t)')"
      ]
     },
     "execution_count": 61,
     "metadata": {},
     "output_type": "execute_result"
    },
    {
     "data": {
      "image/png": "[encoded data removed]",
      "text/plain": [
       "<Figure size 432x288 with 1 Axes>"
      ]
     },
     "metadata": {
      "needs_background": "light"
     },
     "output_type": "display_data"
    }
   ],
   "source": [
    "plt.scatter(t,gt)\n",
    "plt.xlabel('t')\n",
    "plt.ylabel('g_1(t)')"
   ]
  },
  {
   "cell_type": "code",
   "execution_count": null,
   "metadata": {},
   "outputs": [],
   "source": []
  }
 ],
 "metadata": {
  "kernelspec": {
   "display_name": "Python 3",
   "language": "python",
   "name": "python3"
  },
  "language_info": {
   "codemirror_mode": {
    "name": "ipython",
    "version": 3
   },
   "file_extension": ".py",
   "mimetype": "text/x-python",
   "name": "python",
   "nbconvert_exporter": "python",
   "pygments_lexer": "ipython3",
   "version": "3.7.2"
  }
 },
 "nbformat": 4,
 "nbformat_minor": 2
}
